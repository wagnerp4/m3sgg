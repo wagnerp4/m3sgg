{
  "cells": [
    {
      "cell_type": "markdown",
      "metadata": {},
      "source": [
        "# Basic Video Scene Graph Generation\n",
        "\n",
        "This notebook demonstrates how to generate scene graphs from video data using the m3sgg library.\n",
        "We'll walk through the complete pipeline from video input to scene graph visualization.\n",
        "\n",
        "## Overview\n",
        "\n",
        "1. **Video Loading**: Load video data and extract frames\n",
        "2. **Object Detection**: Detect objects in each frame\n",
        "3. **Scene Graph Generation**: Generate relationships between objects\n",
        "4. **Visualization**: Display the results\n",
        "\n",
        "## Prerequisites\n",
        "\n",
        "Make sure you have the required dependencies installed:\n",
        "```bash\n",
        "pip install torch torchvision opencv-python matplotlib networkx\n",
        "```\n"
      ]
    },
    {
      "cell_type": "code",
      "execution_count": null,
      "metadata": {},
      "outputs": [],
      "source": [
        "# Import required libraries\n",
        "import sys\n",
        "import os\n",
        "import torch\n",
        "import cv2\n",
        "import numpy as np\n",
        "import matplotlib.pyplot as plt\n",
        "import networkx as nx\n",
        "from pathlib import Path\n",
        "\n",
        "# Add the src directory to the path\n",
        "sys.path.append(str(Path.cwd().parent / \"src\"))\n",
        "\n",
        "# Import m3sgg components\n",
        "from m3sgg.core.models.sttran import STTran\n",
        "from m3sgg.core.datasets.action_genome import AG, cuda_collate_fn\n",
        "from m3sgg.core.config import Config\n",
        "from m3sgg.core.object_detector import detector\n",
        "from m3sgg.core.evaluation_recall import BasicSceneGraphEvaluator\n",
        "\n",
        "print(\"Libraries imported successfully!\")\n"
      ]
    },
    {
      "cell_type": "markdown",
      "metadata": {},
      "source": [
        "## 1. Setup and Configuration\n",
        "\n",
        "First, let's set up the configuration and check if we have the required data and models.\n"
      ]
    },
    {
      "cell_type": "code",
      "execution_count": null,
      "metadata": {},
      "outputs": [],
      "source": [
        "# Configuration\n",
        "config = Config()\n",
        "config.data_path = \"../data/action_genome\"  # Adjust path as needed\n",
        "config.mode = \"sgdet\"  # Scene graph detection mode\n",
        "config.datasize = 100  # Use smaller dataset for demo\n",
        "\n",
        "# Check if CUDA is available\n",
        "device = torch.device(\"cuda:0\" if torch.cuda.is_available() else \"cpu\")\n",
        "print(f\"Using device: {device}\")\n",
        "\n",
        "# Check if data path exists\n",
        "if not os.path.exists(config.data_path):\n",
        "    print(f\"Warning: Data path {config.data_path} does not exist.\")\n",
        "    print(\"Please ensure the Action Genome dataset is available.\")\n",
        "else:\n",
        "    print(f\"Data path found: {config.data_path}\")\n"
      ]
    },
    {
      "cell_type": "markdown",
      "metadata": {},
      "source": [
        "## 2. Load Dataset\n",
        "\n",
        "Load the Action Genome dataset for video scene graph generation.\n"
      ]
    },
    {
      "cell_type": "code",
      "execution_count": null,
      "metadata": {},
      "outputs": [],
      "source": [
        "# Load dataset\n",
        "try:\n",
        "    dataset = AG(\n",
        "        mode=\"test\",\n",
        "        datasize=config.datasize,\n",
        "        data_path=config.data_path,\n",
        "        filter_nonperson_box_frame=True,\n",
        "        filter_small_box=False if config.mode == \"predcls\" else True,\n",
        "    )\n",
        "    \n",
        "    dataloader = torch.utils.data.DataLoader(\n",
        "        dataset, shuffle=False, num_workers=0, collate_fn=cuda_collate_fn\n",
        "    )\n",
        "    \n",
        "    print(f\"Dataset loaded successfully!\")\n",
        "    print(f\"Number of samples: {len(dataset)}\")\n",
        "    print(f\"Number of batches: {len(dataloader)}\")\n",
        "    \n",
        "    # Get object classes\n",
        "    obj_classes = dataset.obj_classes\n",
        "    print(f\"Number of object classes: {len(obj_classes)}\")\n",
        "    print(f\"First 10 object classes: {obj_classes[:10]}\")\n",
        "    \n",
        "except Exception as e:\n",
        "    print(f\"Error loading dataset: {e}\")\n",
        "    print(\"This might be due to missing data files.\")\n",
        "    print(\"Please ensure the Action Genome dataset is properly set up.\")\n"
      ]
    }
  ],
  "metadata": {
    "language_info": {
      "name": "python"
    }
  },
  "nbformat": 4,
  "nbformat_minor": 2
}
